{
 "cells": [
  {
   "cell_type": "markdown",
   "metadata": {},
   "source": [
    "# SNEWPY Demo for PyHEP 2022\n",
    "\n",
    "## Installation\n",
    "If you’re running this in Binder: Great! Everything should just work.\n",
    "\n",
    "Otherwise, use `pip install snewpy==1.3b1` to install snewpy and `git clone https://github.com/SNOwGLoBES/snowglobes.git` to download SNOwGLoBES, which we will need in the second half of this notebook to estimate event rates in realistic detectors.\n",
    "\n",
    "## Get Sample Data Files\n",
    "\n",
    "Let’s download data files containing neutrino fluxes predicted by a few different supernova models."
   ]
  },
  {
   "cell_type": "code",
   "execution_count": null,
   "metadata": {},
   "outputs": [],
   "source": [
    "import snewpy\n",
    "from snewpy.models.ccsn import Nakazato_2013\n",
    "\n",
    "import os\n",
    "\n",
    "\n",
    "snewpy.get_models(\"Nakazato_2013\")\n",
    "os.path.isdir('SNEWPY_models/Nakazato_2013/')\n",
    "model = Nakazato_2013('SNEWPY_models/Nakazato_2013/nakazato-shen-z0.004-t_rev100ms-s20.0.fits')\n",
    "model"
   ]
  }
 ],
 "metadata": {
  "kernelspec": {
   "display_name": "Python 3.7.3 64-bit",
   "language": "python",
   "name": "python3"
  },
  "language_info": {
   "name": "python",
   "version": "3.7.3"
  },
  "orig_nbformat": 4,
  "vscode": {
   "interpreter": {
    "hash": "31f2aee4e71d21fbe5cf8b01ff0e069b9275f58929596ceb00d14d90e3e16cd6"
   }
  }
 },
 "nbformat": 4,
 "nbformat_minor": 2
}
